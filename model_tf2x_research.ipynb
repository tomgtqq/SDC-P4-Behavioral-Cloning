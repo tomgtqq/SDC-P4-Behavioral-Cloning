{
 "cells": [
  {
   "cell_type": "code",
   "execution_count": 1,
   "metadata": {},
   "outputs": [
    {
     "name": "stdout",
     "output_type": "stream",
     "text": [
      "False\n",
      "Num GPUs Available:  0\n"
     ]
    }
   ],
   "source": [
    "import numpy as np\n",
    "import pandas as pd\n",
    "from sklearn.model_selection import train_test_split\n",
    "import matplotlib.pyplot as plt\n",
    "%matplotlib inline\n",
    "\n",
    "import tensorflow as tf\n",
    "import tensorflow_hub as hub\n",
    "from tensorflow.keras import layers\n",
    "from tensorflow.keras.preprocessing.image import ImageDataGenerator\n",
    "from tensorflow.keras.callbacks import EarlyStopping, ModelCheckpoint\n",
    "\n",
    "import logging\n",
    "logger = tf.get_logger()\n",
    "logger.setLevel(logging.ERROR)\n",
    "print(tf.test.is_gpu_available())\n",
    "print(\"Num GPUs Available: \", len(tf.config.experimental.list_physical_devices('GPU')))"
   ]
  },
  {
   "cell_type": "code",
   "execution_count": 2,
   "metadata": {},
   "outputs": [],
   "source": [
    "#Training parameters\n",
    "BATCH_SIZE = 64\n",
    "EPOCHS = 100\n",
    "CORRECTION = 0.3\n",
    "\n",
    "# Data path\n",
    "file_path = './data/driving_log.csv'"
   ]
  },
  {
   "cell_type": "markdown",
   "metadata": {},
   "source": [
    "### Preprocessing data"
   ]
  },
  {
   "cell_type": "code",
   "execution_count": 3,
   "metadata": {},
   "outputs": [
    {
     "data": {
      "text/html": [
       "<div>\n",
       "<style scoped>\n",
       "    .dataframe tbody tr th:only-of-type {\n",
       "        vertical-align: middle;\n",
       "    }\n",
       "\n",
       "    .dataframe tbody tr th {\n",
       "        vertical-align: top;\n",
       "    }\n",
       "\n",
       "    .dataframe thead th {\n",
       "        text-align: right;\n",
       "    }\n",
       "</style>\n",
       "<table border=\"1\" class=\"dataframe\">\n",
       "  <thead>\n",
       "    <tr style=\"text-align: right;\">\n",
       "      <th></th>\n",
       "      <th>center</th>\n",
       "      <th>left</th>\n",
       "      <th>right</th>\n",
       "      <th>steering</th>\n",
       "      <th>throttle</th>\n",
       "      <th>brake</th>\n",
       "      <th>speed</th>\n",
       "    </tr>\n",
       "  </thead>\n",
       "  <tbody>\n",
       "    <tr>\n",
       "      <th>0</th>\n",
       "      <td>IMG/center_2016_12_01_13_30_48_287.jpg</td>\n",
       "      <td>IMG/left_2016_12_01_13_30_48_287.jpg</td>\n",
       "      <td>IMG/right_2016_12_01_13_30_48_287.jpg</td>\n",
       "      <td>0.0</td>\n",
       "      <td>0.0</td>\n",
       "      <td>0.0</td>\n",
       "      <td>22.148290</td>\n",
       "    </tr>\n",
       "    <tr>\n",
       "      <th>1</th>\n",
       "      <td>IMG/center_2016_12_01_13_30_48_404.jpg</td>\n",
       "      <td>IMG/left_2016_12_01_13_30_48_404.jpg</td>\n",
       "      <td>IMG/right_2016_12_01_13_30_48_404.jpg</td>\n",
       "      <td>0.0</td>\n",
       "      <td>0.0</td>\n",
       "      <td>0.0</td>\n",
       "      <td>21.879630</td>\n",
       "    </tr>\n",
       "    <tr>\n",
       "      <th>2</th>\n",
       "      <td>IMG/center_2016_12_01_13_31_12_937.jpg</td>\n",
       "      <td>IMG/left_2016_12_01_13_31_12_937.jpg</td>\n",
       "      <td>IMG/right_2016_12_01_13_31_12_937.jpg</td>\n",
       "      <td>0.0</td>\n",
       "      <td>0.0</td>\n",
       "      <td>0.0</td>\n",
       "      <td>1.453011</td>\n",
       "    </tr>\n",
       "    <tr>\n",
       "      <th>3</th>\n",
       "      <td>IMG/center_2016_12_01_13_31_13_037.jpg</td>\n",
       "      <td>IMG/left_2016_12_01_13_31_13_037.jpg</td>\n",
       "      <td>IMG/right_2016_12_01_13_31_13_037.jpg</td>\n",
       "      <td>0.0</td>\n",
       "      <td>0.0</td>\n",
       "      <td>0.0</td>\n",
       "      <td>1.438419</td>\n",
       "    </tr>\n",
       "    <tr>\n",
       "      <th>4</th>\n",
       "      <td>IMG/center_2016_12_01_13_31_13_177.jpg</td>\n",
       "      <td>IMG/left_2016_12_01_13_31_13_177.jpg</td>\n",
       "      <td>IMG/right_2016_12_01_13_31_13_177.jpg</td>\n",
       "      <td>0.0</td>\n",
       "      <td>0.0</td>\n",
       "      <td>0.0</td>\n",
       "      <td>1.418236</td>\n",
       "    </tr>\n",
       "  </tbody>\n",
       "</table>\n",
       "</div>"
      ],
      "text/plain": [
       "                                   center  \\\n",
       "0  IMG/center_2016_12_01_13_30_48_287.jpg   \n",
       "1  IMG/center_2016_12_01_13_30_48_404.jpg   \n",
       "2  IMG/center_2016_12_01_13_31_12_937.jpg   \n",
       "3  IMG/center_2016_12_01_13_31_13_037.jpg   \n",
       "4  IMG/center_2016_12_01_13_31_13_177.jpg   \n",
       "\n",
       "                                    left  \\\n",
       "0   IMG/left_2016_12_01_13_30_48_287.jpg   \n",
       "1   IMG/left_2016_12_01_13_30_48_404.jpg   \n",
       "2   IMG/left_2016_12_01_13_31_12_937.jpg   \n",
       "3   IMG/left_2016_12_01_13_31_13_037.jpg   \n",
       "4   IMG/left_2016_12_01_13_31_13_177.jpg   \n",
       "\n",
       "                                    right  steering  throttle  brake  \\\n",
       "0   IMG/right_2016_12_01_13_30_48_287.jpg       0.0       0.0    0.0   \n",
       "1   IMG/right_2016_12_01_13_30_48_404.jpg       0.0       0.0    0.0   \n",
       "2   IMG/right_2016_12_01_13_31_12_937.jpg       0.0       0.0    0.0   \n",
       "3   IMG/right_2016_12_01_13_31_13_037.jpg       0.0       0.0    0.0   \n",
       "4   IMG/right_2016_12_01_13_31_13_177.jpg       0.0       0.0    0.0   \n",
       "\n",
       "       speed  \n",
       "0  22.148290  \n",
       "1  21.879630  \n",
       "2   1.453011  \n",
       "3   1.438419  \n",
       "4   1.418236  "
      ]
     },
     "execution_count": 3,
     "metadata": {},
     "output_type": "execute_result"
    }
   ],
   "source": [
    "data_df = pd.read_csv(file_path)\n",
    "data_df.head()"
   ]
  },
  {
   "cell_type": "code",
   "execution_count": 4,
   "metadata": {},
   "outputs": [
    {
     "data": {
      "text/html": [
       "<div>\n",
       "<style scoped>\n",
       "    .dataframe tbody tr th:only-of-type {\n",
       "        vertical-align: middle;\n",
       "    }\n",
       "\n",
       "    .dataframe tbody tr th {\n",
       "        vertical-align: top;\n",
       "    }\n",
       "\n",
       "    .dataframe thead th {\n",
       "        text-align: right;\n",
       "    }\n",
       "</style>\n",
       "<table border=\"1\" class=\"dataframe\">\n",
       "  <thead>\n",
       "    <tr style=\"text-align: right;\">\n",
       "      <th></th>\n",
       "      <th>features</th>\n",
       "      <th>labels</th>\n",
       "    </tr>\n",
       "  </thead>\n",
       "  <tbody>\n",
       "    <tr>\n",
       "      <th>0</th>\n",
       "      <td>IMG/center_2016_12_01_13_30_48_287.jpg</td>\n",
       "      <td>0.0</td>\n",
       "    </tr>\n",
       "    <tr>\n",
       "      <th>1</th>\n",
       "      <td>IMG/center_2016_12_01_13_30_48_404.jpg</td>\n",
       "      <td>0.0</td>\n",
       "    </tr>\n",
       "    <tr>\n",
       "      <th>2</th>\n",
       "      <td>IMG/center_2016_12_01_13_31_12_937.jpg</td>\n",
       "      <td>0.0</td>\n",
       "    </tr>\n",
       "    <tr>\n",
       "      <th>3</th>\n",
       "      <td>IMG/center_2016_12_01_13_31_13_037.jpg</td>\n",
       "      <td>0.0</td>\n",
       "    </tr>\n",
       "    <tr>\n",
       "      <th>4</th>\n",
       "      <td>IMG/center_2016_12_01_13_31_13_177.jpg</td>\n",
       "      <td>0.0</td>\n",
       "    </tr>\n",
       "  </tbody>\n",
       "</table>\n",
       "</div>"
      ],
      "text/plain": [
       "                                 features  labels\n",
       "0  IMG/center_2016_12_01_13_30_48_287.jpg     0.0\n",
       "1  IMG/center_2016_12_01_13_30_48_404.jpg     0.0\n",
       "2  IMG/center_2016_12_01_13_31_12_937.jpg     0.0\n",
       "3  IMG/center_2016_12_01_13_31_13_037.jpg     0.0\n",
       "4  IMG/center_2016_12_01_13_31_13_177.jpg     0.0"
      ]
     },
     "execution_count": 4,
     "metadata": {},
     "output_type": "execute_result"
    }
   ],
   "source": [
    "new_df = pd.DataFrame()\n",
    "new_df['features'] = pd.concat([data_df['center'], data_df['left'], data_df['right']], ignore_index=True)\n",
    "new_df['labels'] = pd.concat([data_df['steering'], data_df['steering']+CORRECTION, data_df['steering']-CORRECTION], ignore_index=True)\n",
    "new_df.head()"
   ]
  },
  {
   "cell_type": "code",
   "execution_count": 6,
   "metadata": {},
   "outputs": [],
   "source": [
    "X = new_df['features'].map(lambda x: './data/'+x.strip())\n",
    "y = new_df['labels'].values"
   ]
  },
  {
   "cell_type": "code",
   "execution_count": 8,
   "metadata": {},
   "outputs": [
    {
     "data": {
      "text/plain": [
       "0        ./data/IMG/center_2016_12_01_13_30_48_287.jpg\n",
       "1        ./data/IMG/center_2016_12_01_13_30_48_404.jpg\n",
       "2        ./data/IMG/center_2016_12_01_13_31_12_937.jpg\n",
       "3        ./data/IMG/center_2016_12_01_13_31_13_037.jpg\n",
       "4        ./data/IMG/center_2016_12_01_13_31_13_177.jpg\n",
       "                             ...                      \n",
       "24103     ./data/IMG/right_2016_12_01_13_46_38_745.jpg\n",
       "24104     ./data/IMG/right_2016_12_01_13_46_38_802.jpg\n",
       "24105     ./data/IMG/right_2016_12_01_13_46_38_846.jpg\n",
       "24106     ./data/IMG/right_2016_12_01_13_46_38_922.jpg\n",
       "24107     ./data/IMG/right_2016_12_01_13_46_38_947.jpg\n",
       "Name: features, Length: 24108, dtype: object"
      ]
     },
     "execution_count": 8,
     "metadata": {},
     "output_type": "execute_result"
    }
   ],
   "source": [
    "X"
   ]
  },
  {
   "cell_type": "code",
   "execution_count": 9,
   "metadata": {},
   "outputs": [],
   "source": [
    "X_train, X_valid, y_train, y_valid = train_test_split(X, y, test_size = 0.2, random_state = 42)"
   ]
  },
  {
   "cell_type": "code",
   "execution_count": 10,
   "metadata": {},
   "outputs": [],
   "source": [
    "def preprocess_image(image):\n",
    "    image = tf.image.decode_jpeg(image, channels=3)\n",
    "    image = tf.cast(image, tf.float64)/255.0 - 0.5 \n",
    "    return image\n",
    "\n",
    "def load_and_preprocess_image(path):\n",
    "    image = tf.io.read_file(path)\n",
    "    return preprocess_image(image)\n",
    "\n",
    "def load_and_preprocess_from_path_label(path, label):\n",
    "    return load_and_preprocess_image(path), label"
   ]
  },
  {
   "cell_type": "code",
   "execution_count": 11,
   "metadata": {},
   "outputs": [],
   "source": [
    "train_ds = tf.data.Dataset.from_tensor_slices((X_train, y_train))\n",
    "train_batches = train_ds.map(load_and_preprocess_from_path_label).batch(BATCH_SIZE).prefetch(1)\n",
    "\n",
    "valid_ds = tf.data.Dataset.from_tensor_slices((X_valid, y_valid))\n",
    "validation_batches = valid_ds.map(load_and_preprocess_from_path_label).batch(BATCH_SIZE).prefetch(1)"
   ]
  },
  {
   "cell_type": "markdown",
   "metadata": {},
   "source": [
    "### 1.Build model base on *Nvidia arXiv:1604.07316v*"
   ]
  },
  {
   "cell_type": "code",
   "execution_count": 12,
   "metadata": {},
   "outputs": [
    {
     "name": "stdout",
     "output_type": "stream",
     "text": [
      "Model: \"sequential\"\n",
      "_________________________________________________________________\n",
      "Layer (type)                 Output Shape              Param #   \n",
      "=================================================================\n",
      "lambda (Lambda)              (None, 160, 320, 3)       0         \n",
      "_________________________________________________________________\n",
      "cropping2d (Cropping2D)      (None, 65, 280, 3)        0         \n",
      "_________________________________________________________________\n",
      "conv2d (Conv2D)              (None, 31, 138, 24)       1824      \n",
      "_________________________________________________________________\n",
      "conv2d_1 (Conv2D)            (None, 14, 67, 36)        21636     \n",
      "_________________________________________________________________\n",
      "conv2d_2 (Conv2D)            (None, 5, 32, 48)         43248     \n",
      "_________________________________________________________________\n",
      "conv2d_3 (Conv2D)            (None, 3, 30, 64)         27712     \n",
      "_________________________________________________________________\n",
      "conv2d_4 (Conv2D)            (None, 1, 28, 64)         36928     \n",
      "_________________________________________________________________\n",
      "flatten (Flatten)            (None, 1792)              0         \n",
      "_________________________________________________________________\n",
      "dense (Dense)                (None, 100)               179300    \n",
      "_________________________________________________________________\n",
      "dense_1 (Dense)              (None, 50)                5050      \n",
      "_________________________________________________________________\n",
      "dense_2 (Dense)              (None, 10)                510       \n",
      "_________________________________________________________________\n",
      "dense_3 (Dense)              (None, 1)                 11        \n",
      "=================================================================\n",
      "Total params: 316,219\n",
      "Trainable params: 316,219\n",
      "Non-trainable params: 0\n",
      "_________________________________________________________________\n"
     ]
    }
   ],
   "source": [
    "model = tf.keras.Sequential([\n",
    "    layers.Lambda(lambda x:(x/255.0)-0.5, input_shape=(160, 320, 3)),\n",
    "    layers.Cropping2D(cropping=((70,25),(20,20)), input_shape=(160, 320, 3)),\n",
    "    layers.Conv2D(24, kernel_size=(5, 5), strides =(2, 2), activation='relu'),\n",
    "    layers.Conv2D(36, kernel_size=(5, 5), strides =(2, 2), activation='relu'),\n",
    "    layers.Conv2D(48, kernel_size=(5, 5), strides =(2, 2), activation='relu'),   \n",
    "    layers.Conv2D(64, kernel_size=(3, 3), activation='relu'),\n",
    "    layers.Conv2D(64, kernel_size=(3, 3), activation='relu'),\n",
    "    layers.Flatten(),\n",
    "    layers.Dense(100, activation='relu'),\n",
    "    layers.Dense(50, activation='relu'),\n",
    "    layers.Dense(10, activation='relu'),\n",
    "    layers.Dense(1)\n",
    "])\n",
    "\n",
    "model.summary()"
   ]
  },
  {
   "cell_type": "code",
   "execution_count": 13,
   "metadata": {},
   "outputs": [
    {
     "name": "stdout",
     "output_type": "stream",
     "text": [
      "Requirement already satisfied: visualkeras in /Users/getang/opt/anaconda3/envs/TensorFlow2/lib/python3.8/site-packages (0.0.2)\n",
      "Requirement already satisfied: pillow>=6.2.0 in /Users/getang/opt/anaconda3/envs/TensorFlow2/lib/python3.8/site-packages (from visualkeras) (7.2.0)\n",
      "Requirement already satisfied: aggdraw>=1.3.11 in /Users/getang/opt/anaconda3/envs/TensorFlow2/lib/python3.8/site-packages (from visualkeras) (1.3.12)\n",
      "Requirement already satisfied: numpy>=1.18.1 in /Users/getang/opt/anaconda3/envs/TensorFlow2/lib/python3.8/site-packages (from visualkeras) (1.19.2)\n"
     ]
    },
    {
     "data": {
      "image/png": "[encoded data removed]",
      "text/plain": [
       "<PIL.Image.Image image mode=RGBA size=494x630 at 0x7FD43D77A970>"
      ]
     },
     "execution_count": 13,
     "metadata": {},
     "output_type": "execute_result"
    }
   ],
   "source": [
    "! pip install visualkeras\n",
    "import visualkeras\n",
    "visualkeras.layered_view(model, type_ignore=[layers.Lambda, layers.Cropping2D], legend=True)"
   ]
  },
  {
   "cell_type": "code",
   "execution_count": 14,
   "metadata": {},
   "outputs": [
    {
     "name": "stdout",
     "output_type": "stream",
     "text": [
      "Epoch 1/100\n",
      "302/302 [==============================] - 285s 940ms/step - loss: 0.0755 - val_loss: 0.0773\n",
      "\n",
      "Epoch 00001: val_loss improved from inf to 0.07733, saving model to 001.h5\n",
      "Epoch 2/100\n",
      "302/302 [==============================] - 312s 1s/step - loss: 0.0753 - val_loss: 0.0773\n",
      "\n",
      "Epoch 00002: val_loss improved from 0.07733 to 0.07733, saving model to 002.h5\n",
      "Epoch 3/100\n",
      "302/302 [==============================] - 276s 915ms/step - loss: 0.0753 - val_loss: 0.0773\n",
      "\n",
      "Epoch 00003: val_loss improved from 0.07733 to 0.07733, saving model to 003.h5\n",
      "Epoch 4/100\n",
      "302/302 [==============================] - 313s 1s/step - loss: 0.0753 - val_loss: 0.0773\n",
      "\n",
      "Epoch 00004: val_loss improved from 0.07733 to 0.07733, saving model to 004.h5\n",
      "Epoch 5/100\n",
      "302/302 [==============================] - 113s 374ms/step - loss: 0.0753 - val_loss: 0.0773\n",
      "\n",
      "Epoch 00005: val_loss improved from 0.07733 to 0.07733, saving model to 005.h5\n",
      "Epoch 6/100\n",
      "302/302 [==============================] - 76s 253ms/step - loss: 0.0753 - val_loss: 0.0773\n",
      "\n",
      "Epoch 00006: val_loss improved from 0.07733 to 0.07733, saving model to 006.h5\n",
      "Epoch 7/100\n",
      "302/302 [==============================] - 77s 253ms/step - loss: 0.0753 - val_loss: 0.0773\n",
      "\n",
      "Epoch 00007: val_loss improved from 0.07733 to 0.07733, saving model to 007.h5\n",
      "Epoch 8/100\n",
      "302/302 [==============================] - 82s 271ms/step - loss: 0.0753 - val_loss: 0.0773\n",
      "\n",
      "Epoch 00008: val_loss improved from 0.07733 to 0.07733, saving model to 008.h5\n",
      "Epoch 9/100\n",
      "302/302 [==============================] - 252s 835ms/step - loss: 0.0753 - val_loss: 0.0773\n",
      "\n",
      "Epoch 00009: val_loss improved from 0.07733 to 0.07733, saving model to 009.h5\n",
      "Epoch 10/100\n",
      "302/302 [==============================] - 285s 946ms/step - loss: 0.0753 - val_loss: 0.0773\n",
      "\n",
      "Epoch 00010: val_loss improved from 0.07733 to 0.07733, saving model to 010.h5\n",
      "Epoch 11/100\n",
      "302/302 [==============================] - 263s 871ms/step - loss: 0.0753 - val_loss: 0.0773\n",
      "\n",
      "Epoch 00011: val_loss improved from 0.07733 to 0.07733, saving model to 011.h5\n",
      "Epoch 12/100\n",
      "302/302 [==============================] - 128s 424ms/step - loss: 0.0753 - val_loss: 0.0773\n",
      "\n",
      "Epoch 00012: val_loss did not improve from 0.07733\n",
      "Epoch 13/100\n",
      "302/302 [==============================] - 72s 238ms/step - loss: 0.0753 - val_loss: 0.0773\n",
      "\n",
      "Epoch 00013: val_loss did not improve from 0.07733\n",
      "Epoch 14/100\n",
      "302/302 [==============================] - 75s 248ms/step - loss: 0.0753 - val_loss: 0.0773\n",
      "\n",
      "Epoch 00014: val_loss did not improve from 0.07733\n",
      "Epoch 15/100\n",
      "302/302 [==============================] - 81s 270ms/step - loss: 0.0753 - val_loss: 0.0773\n",
      "\n",
      "Epoch 00015: val_loss did not improve from 0.07733\n"
     ]
    }
   ],
   "source": [
    "callbacks = [\n",
    "    EarlyStopping(monitor='val_loss', patience=4),\n",
    "    ModelCheckpoint('{epoch:03d}.h5', monitor='val_loss', verbose=1, save_best_only=True, mode='auto')\n",
    "]\n",
    "\n",
    "model.compile(optimizer='adam',loss='mse')\n",
    "\n",
    "history = model.fit(train_batches, epochs=EPOCHS, validation_data=validation_batches, callbacks=callbacks)"
   ]
  },
  {
   "cell_type": "code",
   "execution_count": 15,
   "metadata": {},
   "outputs": [
    {
     "data": {
      "image/png": "[encoded data removed]",
      "text/plain": [
       "<Figure size 432x288 with 1 Axes>"
      ]
     },
     "metadata": {
      "needs_background": "light"
     },
     "output_type": "display_data"
    }
   ],
   "source": [
    "# Plot Training and Validation Graphs\n",
    "loss = history.history['loss']\n",
    "val_loss = history.history['val_loss']\n",
    "\n",
    "plt.title('Training and Validation Loss')\n",
    "plt.ylabel('mean squared error loss')\n",
    "plt.xlabel('epoch')\n",
    "plt.plot(loss, label='Training Loss')\n",
    "plt.plot(val_loss, label='Validation Loss')\n",
    "plt.legend(['training set', 'validation set'], loc='upper right')\n",
    "plt.show()"
   ]
  },
  {
   "cell_type": "markdown",
   "metadata": {},
   "source": [
    "### 2. Transfer Learning and set *trainable = True*"
   ]
  },
  {
   "cell_type": "code",
   "execution_count": null,
   "metadata": {},
   "outputs": [],
   "source": [
    "#Pre-process image size\n",
    "IMAGE_RES = 224\n",
    "\n",
    "#Training parameters\n",
    "BATCH_SIZE = 64\n",
    "EPOCHS = 100"
   ]
  },
  {
   "cell_type": "code",
   "execution_count": null,
   "metadata": {},
   "outputs": [],
   "source": [
    "URL = \"https://tfhub.dev/google/tf2-preview/mobilenet_v2/feature_vector/4\"\n",
    "feature_extractor = hub.KerasLayer(URL, input_shape=(IMAGE_RES, IMAGE_RES, 3), trainable=False, arguments=dict(batch_norm_momentum=0.997))\n",
    "    \n",
    "# Create a model with the pre-trained model and the new classification layer\n",
    "mobilenet = tf.keras.Sequential([\n",
    "    layers.Lambda(lambda x:(x/255.0)-0.5, input_shape=(160, 320, 3)),\n",
    "    layers.Cropping2D(cropping=((70,25),(20,20)), input_shape=(160, 320, 3)),\n",
    "    layers.experimental.preprocessing.Resizing(IMAGE_RES, IMAGE_RES, input_shape=(160, 320, 3)),\n",
    "    feature_extractor,\n",
    "    layers.Flatten(),\n",
    "    layers.Dense(100, activation='relu'),\n",
    "    layers.Dense(50, activation='relu'),\n",
    "    layers.Dense(10, activation='relu'),\n",
    "    layers.Dense(1)\n",
    "])\n",
    "\n",
    "mobilenet.summary()"
   ]
  },
  {
   "cell_type": "code",
   "execution_count": null,
   "metadata": {},
   "outputs": [],
   "source": [
    "callbacks = [\n",
    "    EarlyStopping(monitor='val_loss', patience=2),\n",
    "    ModelCheckpoint('mobilenet_{epoch:03d}.h5', monitor='val_loss', verbose=0, save_best_only=True, mode='auto')\n",
    "]\n",
    "\n",
    "\n",
    "mobilenet.compile(\n",
    "    optimizer='adam',\n",
    "    loss='mse')\n",
    "\n",
    "mobilenet_history = mobilenet.fit(train_batches, epochs=EPOCHS, validation_data=validation_batches, callbacks=callbacks)"
   ]
  },
  {
   "cell_type": "code",
   "execution_count": null,
   "metadata": {},
   "outputs": [],
   "source": [
    "# Plot Training and Validation Graphs\n",
    "\n",
    "loss = mobilenet_history.history['loss']\n",
    "val_loss = mobilenet_history.history['val_loss']\n",
    "\n",
    "plt.title('Training and Validation Loss')\n",
    "plt.ylabel('mean squared error loss')\n",
    "plt.xlabel('epoch')\n",
    "plt.plot(loss, label='Training Loss')\n",
    "plt.plot(val_loss, label='Validation Loss')\n",
    "plt.legend(['training set', 'validation set'], loc='upper right')\n",
    "plt.show()"
   ]
  }
 ],
 "metadata": {
  "kernelspec": {
   "display_name": "Python 3",
   "language": "python",
   "name": "python3"
  },
  "language_info": {
   "codemirror_mode": {
    "name": "ipython",
    "version": 3
   },
   "file_extension": ".py",
   "mimetype": "text/x-python",
   "name": "python",
   "nbconvert_exporter": "python",
   "pygments_lexer": "ipython3",
   "version": "3.8.5"
  }
 },
 "nbformat": 4,
 "nbformat_minor": 5
}
